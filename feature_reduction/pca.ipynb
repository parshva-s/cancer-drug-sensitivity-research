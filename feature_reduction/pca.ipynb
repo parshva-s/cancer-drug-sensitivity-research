{
 "cells": [
  {
   "cell_type": "code",
   "execution_count": null,
   "metadata": {
    "id": "cP7z6abU2wBS"
   },
   "outputs": [],
   "source": [
    "import pandas as pd\n",
    "from sklearn.decomposition import PCA\n",
    "from sklearn.model_selection import train_test_split\n",
    "from sklearn.metrics import mean_squared_error\n",
    "import numpy as np\n",
    "from sklearn.ensemble import RandomForestRegressor\n",
    "from sklearn.model_selection import KFold"
   ]
  },
  {
   "cell_type": "code",
   "execution_count": 32,
   "metadata": {
    "id": "wm8DJgMq2wBY"
   },
   "outputs": [],
   "source": [
    "# Loading Data into a DataFrame\n",
    "ic50_path = 'data/GDSC2_fitted_dose_response.csv'\n",
    "cle_path = 'data/cell_line_expressions.csv'\n",
    "\n",
    "ic50_df = pd.read_csv(ic50_path)\n",
    "cle_df = pd.read_csv(cle_path)\n",
    "\n",
    "# Only take the necessary columns\n",
    "ic50_df_filtered = ic50_df[['CELL_LINE_NAME', 'LN_IC50', 'DRUG_ID']]\n",
    "\n",
    "# Filter the DataFrame for DRUG_ID = 1003\n",
    "ic50_df_filtered = ic50_df_filtered[ic50_df_filtered['DRUG_ID'] == 1003]\n",
    "\n",
    "# Perform a iner join on CELL_LINE_NAME between filtered_ic50_df and cle_df\n",
    "ic50_df_filtered['CELL_LINE_NAME'] = ic50_df_filtered['CELL_LINE_NAME'].str.lower()\n",
    "cle_df['Cell_Line'] = cle_df['Cell_Line'].str.lower()\n",
    "merged_df = pd.merge(ic50_df_filtered, cle_df, how='inner', left_on='CELL_LINE_NAME', right_on='Cell_Line')\n",
    "merged_df = merged_df.drop(columns=['DRUG_ID', 'CELL_LINE_NAME', 'Cell_Line'])"
   ]
  },
  {
   "cell_type": "code",
   "execution_count": 33,
   "metadata": {
    "id": "9Zhxy0zN2wBZ"
   },
   "outputs": [],
   "source": [
    "# Split the features and output\n",
    "final_features = merged_df.drop(columns=['LN_IC50'])\n",
    "final_output = merged_df['LN_IC50']"
   ]
  },
  {
   "cell_type": "code",
   "execution_count": 10,
   "metadata": {
    "id": "-P2Qi2vB2wBa"
   },
   "outputs": [],
   "source": [
    "def number_of_components(df):\n",
    "    \"\"\"\n",
    "    Determines the minimum number of principal components required to retain 95% of the variance in the data.\n",
    "\n",
    "    Parameters:\n",
    "    df (DataFrame): Scaled Input Features where each row is a sample and each column is a feature.\n",
    "\n",
    "    Returns:\n",
    "    tuple: A tuple containing:\n",
    "        - n_components (int): The number of principal components required to retain 95% of the variance.\n",
    "        - cumulative_explained_variance (float): The actual cumulative explained variance achieved with the selected number of components.\n",
    "    \"\"\"\n",
    "    pca = PCA()\n",
    "    pca.fit(df)\n",
    "\n",
    "    # Calculate the explained variance ratio\n",
    "    explained_variance_ratio = pca.explained_variance_ratio_\n",
    "\n",
    "    # Calculate the cumulative explained variance\n",
    "    cumulative_explained_variance = np.cumsum(explained_variance_ratio)\n",
    "\n",
    "    # Find the number of components for 95% variance\n",
    "    n_components = np.argmax(cumulative_explained_variance >= 0.95) + 1\n",
    "\n",
    "    return (n_components, cumulative_explained_variance[n_components-1])"
   ]
  },
  {
   "cell_type": "code",
   "execution_count": 11,
   "metadata": {
    "id": "UFqOmuSe2wBa"
   },
   "outputs": [],
   "source": [
    "def pca_transform(df, n_components):\n",
    "    \"\"\"\n",
    "    Applies PCA to reduce the dimensionality of a DataFrame.\n",
    "\n",
    "    Parameters:\n",
    "    df (DataFrame): Scaled Input Features.\n",
    "    n_components (int): The number of components required to retain 95% of variance.\n",
    "\n",
    "    Returns:\n",
    "    DataFrame: Returns a pd.DataFrame with the PCA transformation.\n",
    "    \"\"\"\n",
    "    pca = PCA(n_components=n_components)\n",
    "    pca.fit(df)\n",
    "    df_pca = pca.transform(df)\n",
    "\n",
    "    return pd.DataFrame(df_pca, columns=[f\"PC{i+1}\" for i in range(n_components)])"
   ]
  },
  {
   "cell_type": "code",
   "execution_count": null,
   "metadata": {
    "id": "ITp7Ch1l2wBc"
   },
   "outputs": [],
   "source": [
    "# Determining the number of components needed for PCA for the final data\n",
    "(n_components, cumulative_explained_variance) = number_of_components(final_features)\n",
    "\n",
    "# Display results\n",
    "print(f\"Number of components to retain 95% of variance: {n_components}\")\n",
    "print(\n",
    "    f\"Cumulative explained variance for the selected components: {cumulative_explained_variance}\"\n",
    ")"
   ]
  },
  {
   "cell_type": "code",
   "execution_count": null,
   "metadata": {
    "id": "YC5TQT652wBd"
   },
   "outputs": [],
   "source": [
    "def kfold_pca_rfr(n_components = [50, 100, 200, 500], n_estimators = [50, 100, 200, 500]):\n",
    "    \"\"\"\n",
    "    Performs KFold cross validation for the given number of components in RFR and number of estimators in PCA\n",
    "\n",
    "    Parameters:\n",
    "    n_components (array): Scaled Input Features where each row is a sample and each column is a feature.\n",
    "\n",
    "    Returns:\n",
    "    tuple: A tuple containing:\n",
    "        - n_components (int): The number of principal components required to retain 95% of the variance.\n",
    "        - cumulative_explained_variance (float): The actual cumulative explained variance achieved with the selected number of components.\n",
    "    \"\"\"\n",
    "    mses = []\n",
    "    kf = KFold(n_splits=5, shuffle=True, random_state=42)\n",
    "    \n",
    "    for n_component in n_components:\n",
    "        final_pca = pca_transform(final_features, n_component)\n",
    "        X_train, X_test, y_train, y_test = train_test_split(final_pca, final_output, test_size=0.2, random_state=42)\n",
    "        \n",
    "        for n_estimator in n_estimators:\n",
    "            kf_mses = []\n",
    "\n",
    "            for train_index, val_index in kf.split(X_train, y_train):\n",
    "                X_train_fold, X_val_fold = X_train.iloc[train_index], X_train.iloc[val_index]\n",
    "                y_train_fold, y_val_fold = y_train.iloc[train_index], y_train.iloc[val_index]\n",
    "\n",
    "                rf_regressor = RandomForestRegressor(n_estimators=n_estimator, random_state=42)\n",
    "                rf_regressor.fit(X_train_fold, y_train_fold)\n",
    "                y_pred = rf_regressor.predict(X_val_fold)\n",
    "                kf_mses.append(mean_squared_error(y_val_fold, y_pred))\n",
    "\n",
    "            avg_val_mse = np.mean(kf_mses)\n",
    "            mses.append([n_component, n_estimator, avg_val_mse])\n",
    "\n",
    "    return mses"
   ]
  },
  {
   "cell_type": "code",
   "execution_count": 46,
   "metadata": {
    "id": "hILcFMlIDDRk"
   },
   "outputs": [],
   "source": [
    "mses = kfold_pca_rfr()"
   ]
  },
  {
   "cell_type": "code",
   "execution_count": null,
   "metadata": {
    "colab": {
     "base_uri": "https://localhost:8080/"
    },
    "id": "yBFQ8g64KvjT",
    "outputId": "6ab3788a-2cd6-47bc-afcf-95c90182cc9c"
   },
   "outputs": [
    {
     "name": "stdout",
     "output_type": "stream",
     "text": [
      "Best number of components: 200\n",
      "Best number of estimators: 50.0\n",
      "Best validation MSE: 2.379761169002068\n"
     ]
    }
   ],
   "source": [
    "results = np.array(mses)\n",
    "min_mse_index = np.argmin(results[:, 2])\n",
    "best_n_component = int(results[min_mse_index, 0])\n",
    "best_n_estimator = results[min_mse_index, 1]\n",
    "best_mse = results[min_mse_index, 2]\n",
    "print(f\"Best number of components: {best_n_component}\")\n",
    "print(f\"Best number of estimators: {best_n_estimator}\")\n",
    "print(f\"Best validation MSE: {best_mse}\")"
   ]
  }
 ],
 "metadata": {
  "colab": {
   "provenance": []
  },
  "kernelspec": {
   "display_name": "Python 3",
   "language": "python",
   "name": "python3"
  },
  "language_info": {
   "codemirror_mode": {
    "name": "ipython",
    "version": 3
   },
   "file_extension": ".py",
   "mimetype": "text/x-python",
   "name": "python",
   "nbconvert_exporter": "python",
   "pygments_lexer": "ipython3",
   "version": "3.12.3"
  }
 },
 "nbformat": 4,
 "nbformat_minor": 0
}
