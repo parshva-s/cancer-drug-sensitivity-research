{
 "cells": [
  {
   "cell_type": "code",
   "execution_count": 64,
   "metadata": {},
   "outputs": [],
   "source": [
    "# Imports\n",
    "import pandas as pd\n",
    "from sklearn.decomposition import PCA\n",
    "from sklearn.model_selection import train_test_split\n",
    "from sklearn.metrics import mean_squared_error, r2_score\n",
    "import seaborn as sns\n",
    "import numpy as np\n",
    "from cuml.svm import SVR as cumlSVR\n",
    "# from sklearn.ensemble import RandomForestRegressor\n",
    "from cuml.ensemble import RandomForestRegressor\n",
    "import cudf"
   ]
  },
  {
   "cell_type": "code",
   "execution_count": 80,
   "metadata": {},
   "outputs": [],
   "source": [
    "# Loading Data into a DataFrame\n",
    "final_dataset_path = \"data/final_dataset.csv\"\n",
    "\n",
    "final_dataset = pd.read_csv(final_dataset_path, nrows=200000)"
   ]
  },
  {
   "cell_type": "code",
   "execution_count": 81,
   "metadata": {},
   "outputs": [],
   "source": [
    "# Split the features and output\n",
    "final_features = final_dataset.iloc[:, 1:418]\n",
    "final_output = final_dataset.iloc[:, [421]]"
   ]
  },
  {
   "cell_type": "code",
   "execution_count": 45,
   "metadata": {},
   "outputs": [],
   "source": [
    "def number_of_components(df):\n",
    "    \"\"\"\n",
    "    Determines the minimum number of principal components required to retain 95% of the variance in the data.\n",
    "\n",
    "    Parameters:\n",
    "    df (DataFrame): Scaled Input Features where each row is a sample and each column is a feature.\n",
    "\n",
    "    Returns:\n",
    "    tuple: A tuple containing:\n",
    "        - n_components (int): The number of principal components required to retain 95% of the variance.\n",
    "        - cumulative_explained_variance (float): The actual cumulative explained variance achieved with the selected number of components.\n",
    "    \"\"\"\n",
    "    pca = PCA()\n",
    "    pca.fit(df)\n",
    "\n",
    "    # Calculate the explained variance ratio\n",
    "    explained_variance_ratio = pca.explained_variance_ratio_\n",
    "\n",
    "    # Calculate the cumulative explained variance\n",
    "    cumulative_explained_variance = np.cumsum(explained_variance_ratio)\n",
    "\n",
    "    # Find the number of components for 95% variance\n",
    "    n_components = np.argmax(cumulative_explained_variance >= 0.95) + 1\n",
    "\n",
    "    return (n_components, cumulative_explained_variance[n_components-1])"
   ]
  },
  {
   "cell_type": "code",
   "execution_count": 46,
   "metadata": {},
   "outputs": [],
   "source": [
    "def pca_transform(df, n_components):\n",
    "    \"\"\"\n",
    "    Applies PCA to reduce the dimensionality of a DataFrame.\n",
    "\n",
    "    Parameters:\n",
    "    df (DataFrame): Scaled Input Features.\n",
    "    n_components (int): The number of components required to retain 95% of variance.\n",
    "\n",
    "    Returns:\n",
    "    DataFrame: Returns a pd.DataFrame with the PCA transformation.\n",
    "    \"\"\"\n",
    "    pca = PCA(n_components=n_components)\n",
    "    pca.fit(df)\n",
    "    df_pca = pca.transform(df)\n",
    "    \n",
    "    return pd.DataFrame(df_pca, columns=[f\"PC{i+1}\" for i in range(n_components)])"
   ]
  },
  {
   "cell_type": "code",
   "execution_count": 7,
   "metadata": {},
   "outputs": [],
   "source": [
    "# Correlation Heatmap of the input features for the final data\n",
    "sns.heatmap(final_features.corr())"
   ]
  },
  {
   "cell_type": "code",
   "execution_count": 8,
   "metadata": {},
   "outputs": [],
   "source": [
    "# Determining the number of components needed for PCA for the final data\n",
    "(n_components, cumulative_explained_variance) = number_of_components(final_features)\n",
    "\n",
    "# Display results\n",
    "print(f\"Number of components to retain 95% of variance: {n_components}\")\n",
    "print(\n",
    "    f\"Cumulative explained variance for the selected components: {cumulative_explained_variance}\"\n",
    ")"
   ]
  },
  {
   "cell_type": "code",
   "execution_count": 9,
   "metadata": {},
   "outputs": [],
   "source": [
    "# Perform PCA\n",
    "final_pca = pca_transform(final_features, n_components)\n",
    "sns.heatmap(final_pca.corr())"
   ]
  },
  {
   "cell_type": "code",
   "execution_count": 73,
   "metadata": {},
   "outputs": [
    {
     "name": "stderr",
     "output_type": "stream",
     "text": [
      "/home/kevin/.local/lib/python3.10/site-packages/cuml/internals/api_decorators.py:344: UserWarning: For reproducible results in Random Forest Classifier or for almost reproducible results in Random Forest Regressor, n_streams=1 is recommended. If n_streams is > 1, results may vary due to stream/thread timing differences, even when random_state is set\n",
      "  return func(**kwargs)\n",
      "/home/kevin/.local/lib/python3.10/site-packages/cuml/internals/api_decorators.py:188: UserWarning: To use pickling first train using float32 data to fit the estimator\n",
      "  ret = func(*args, **kwargs)\n"
     ]
    }
   ],
   "source": [
    "n_estimators = [100, 150, 200]\n",
    "mses = []\n",
    "r2s = []\n",
    "# for n_estimator in n_estimators:\n",
    "n_components = 300\n",
    "final_pca = pca_transform(final_features, n_components)\n",
    "X_train, X_test, y_train, y_test = train_test_split(final_pca, final_output, test_size=0.2, random_state=42)\n",
    "rf_regressor = RandomForestRegressor(n_estimators=200, random_state=42)\n",
    "rf_regressor.fit(X_train, y_train)\n",
    "y_pred = rf_regressor.predict(X_test)\n",
    "mses.append(mean_squared_error(y_test, y_pred))"
   ]
  },
  {
   "cell_type": "code",
   "execution_count": 6,
   "metadata": {},
   "outputs": [],
   "source": [
    "components = [100] # Experiment with differing numbers of components\n",
    "mses = []\n",
    "r2s = []\n",
    "for n_components in components:\n",
    "    final_pca = pca_transform(final_features, n_components)\n",
    "    X_train, X_test, y_train, y_test = train_test_split(final_pca, final_output, test_size=0.2, random_state=42)\n",
    "    svr_model = cumlSVR(kernel=\"rbf\", C=1.0, epsilon=0.1) # SVR with the linear kernel can be much faster using the specialized solver provided by LinearSVR. Consider switching to LinearSVR if tranining takes too long.\n",
    "    svr_model.fit(X_train, y_train)\n",
    "    y_pred = svr_model.predict(X_test)\n",
    "    mses.append(mean_squared_error(y_test, y_pred))\n",
    "    r2s.append(r2_score(y_test, y_pred))"
   ]
  }
 ],
 "metadata": {
  "kernelspec": {
   "display_name": "Python 3",
   "language": "python",
   "name": "python3"
  },
  "language_info": {
   "codemirror_mode": {
    "name": "ipython",
    "version": 3
   },
   "file_extension": ".py",
   "mimetype": "text/x-python",
   "name": "python",
   "nbconvert_exporter": "python",
   "pygments_lexer": "ipython3",
   "version": "3.10.12"
  }
 },
 "nbformat": 4,
 "nbformat_minor": 2
}
