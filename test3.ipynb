{
 "cells": [
  {
   "cell_type": "code",
   "execution_count": 18,
   "metadata": {},
   "outputs": [
    {
     "name": "stdout",
     "output_type": "stream",
     "text": [
      "[[ 262.5 5203.6  690.5 ... 8516.1  312.5 8895.2]\n",
      " [5182.1 1191.  5088.3 ...  496.  8633.8  432. ]\n",
      " [1156.8 4943.7 1162.8 ... 8306.9  504.8 8346.9]\n",
      " ...\n",
      " [7153.3  666.3 7266.3 ...  457.8 8370.   337.3]\n",
      " [ 558.5 6778.   616.3 ... 8316.1  449.3 8527.6]\n",
      " [7058.7  437.8 7454.7 ...  308.5 8631.4  248. ]]\n",
      "{'version': 3, 'GridCornerUL': (0, 0), 'GridCornerUR': (743, 0), 'GridCornerLR': (743, 743), 'GridCornerLL': (0, 743), 'DatHeader': {'scanner-id': '', 'array-type': 'HG-U219.1sq'}, 'Algorithm': 'Percentile', 'AlgorithmParameters': {'Percentile': 75, 'CellMargin': 2, 'OutlierHigh': 1.5, 'OutlierLow': 1.004, 'NumPixelsToUse': 0, 'ImageCalibration': False, 'FeatureExtraction': True, 'IgnoreShiftRowOutliers': False, 'FixedCellSize': True, 'UseSubgrids': False, 'RandomizePixels': False, 'ErrorBasis': 'StdvMean', 'PercentileSpread': 15.0, 'StdMult': 1.0, 'ExtendPoolWidth': 2, 'ExtendPoolHeight': 2, 'OutlierRatioLowPercentile': 55, 'OutlierRatioHighPercentile': 75, 'HalfCellRowsDivisor': 5, 'HalfCellRowsRemainder': 4, 'CellIntensityCalculationType': 'Percentile', 'HighCutoff': 3500, 'LowCutoff': 4096, 'PairCutoff': 2.5, 'featureRows': 109, 'featureColumns': 127, 'featureWidth': 8.0, 'featureHeight': 8.0, 'FullFeatureWidth': 8, 'FullFeatureHeight': 8}, 'NumberCells': 553536, 'intensities': array([[ 262.5, 5203.6,  690.5, ..., 8516.1,  312.5, 8895.2],\n",
      "       [5182.1, 1191. , 5088.3, ...,  496. , 8633.8,  432. ],\n",
      "       [1156.8, 4943.7, 1162.8, ..., 8306.9,  504.8, 8346.9],\n",
      "       ...,\n",
      "       [7153.3,  666.3, 7266.3, ...,  457.8, 8370. ,  337.3],\n",
      "       [ 558.5, 6778. ,  616.3, ..., 8316.1,  449.3, 8527.6],\n",
      "       [7058.7,  437.8, 7454.7, ...,  308.5, 8631.4,  248. ]]), 'stdevs': array([[  98.5,  858.3,  173.1, ..., 2073.5,   47.6, 2329.6],\n",
      "       [ 845.2,  267.9,  870.6, ...,   72.2, 2104.2,   87.6],\n",
      "       [ 315.8,  887.5,  261. , ..., 2058.8,   77.9, 2196.5],\n",
      "       ...,\n",
      "       [1697.4,   89. , 1666.6, ...,   77.8, 1951.9,   39. ],\n",
      "       [ 138.7, 1658.9,   97.9, ..., 1986.5,   70.1, 2094.2],\n",
      "       [1674.3,  106.8, 1814.3, ...,   70.7, 2083.5,   30.9]]), 'npix': array([[36, 36, 36, ..., 36, 36, 36],\n",
      "       [36, 36, 36, ..., 36, 36, 36],\n",
      "       [36, 36, 36, ..., 36, 36, 36],\n",
      "       ...,\n",
      "       [36, 36, 36, ..., 36, 36, 36],\n",
      "       [36, 36, 36, ..., 36, 36, 36],\n",
      "       [36, 36, 36, ..., 36, 36, 36]]), 'nrows': 744, 'ncols': 744, 'nmask': 0, 'mask': array([[False, False, False, ..., False, False, False],\n",
      "       [False, False, False, ..., False, False, False],\n",
      "       [False, False, False, ..., False, False, False],\n",
      "       ...,\n",
      "       [False, False, False, ..., False, False, False],\n",
      "       [False, False, False, ..., False, False, False],\n",
      "       [False, False, False, ..., False, False, False]]), 'noutliers': 0, 'outliers': array([[False, False, False, ..., False, False, False],\n",
      "       [False, False, False, ..., False, False, False],\n",
      "       [False, False, False, ..., False, False, False],\n",
      "       ...,\n",
      "       [False, False, False, ..., False, False, False],\n",
      "       [False, False, False, ..., False, False, False],\n",
      "       [False, False, False, ..., False, False, False]]), 'modified': None}\n"
     ]
    },
    {
     "ename": "AttributeError",
     "evalue": "'Record' object has no attribute 'probe'",
     "output_type": "error",
     "traceback": [
      "\u001b[0;31m---------------------------------------------------------------------------\u001b[0m",
      "\u001b[0;31mAttributeError\u001b[0m                            Traceback (most recent call last)",
      "Cell \u001b[0;32mIn[18], line 19\u001b[0m\n\u001b[1;32m     16\u001b[0m probe_names \u001b[38;5;241m=\u001b[39m []\n\u001b[1;32m     17\u001b[0m probe_intensities \u001b[38;5;241m=\u001b[39m []\n\u001b[0;32m---> 19\u001b[0m \u001b[38;5;28;01mfor\u001b[39;00m probe \u001b[38;5;129;01min\u001b[39;00m \u001b[43mcel\u001b[49m\u001b[38;5;241;43m.\u001b[39;49m\u001b[43mprobe\u001b[49m:\n\u001b[1;32m     20\u001b[0m     probe_names\u001b[38;5;241m.\u001b[39mappend(probe\u001b[38;5;241m.\u001b[39mprobe_set_name)\n\u001b[1;32m     21\u001b[0m     probe_intensities\u001b[38;5;241m.\u001b[39mappend(probe\u001b[38;5;241m.\u001b[39mintensity)\n",
      "\u001b[0;31mAttributeError\u001b[0m: 'Record' object has no attribute 'probe'"
     ]
    }
   ],
   "source": [
    "import pandas as pd\n",
    "from Bio.Affy import CelFile\n",
    "\n",
    "# Path to the CEL file\n",
    "cel_file_path = \"data/5500994157493061613625_A03.cel\"\n",
    "# cel_file_path = \"data/5500994157493061613625_A02.cel\"\n",
    "\n",
    "# Open and read the CEL file\n",
    "with open(cel_file_path, 'r') as f:\n",
    "    cel = CelFile.read(f)\n",
    "    print(cel.intensities)\n",
    "    print(cel.__dict__)\n",
    "\n",
    "    # Convert the intensities to a pandas DataFrame\n",
    "    # Extract probe intensities and coordinates from the CEL file\n",
    "    probe_names = []\n",
    "    probe_intensities = []\n",
    "\n",
    "    for probe in cel.probe:\n",
    "        probe_names.append(probe.probe_set_name)\n",
    "        probe_intensities.append(probe.intensity)\n",
    "\n",
    "    # Create a pandas DataFrame with the data\n",
    "    df = pd.DataFrame({\n",
    "        'Probe Set': probe_names,\n",
    "        'Intensity': probe_intensities,\n",
    "    })\n",
    "\n",
    "# Save to CSV\n",
    "df.to_csv(\"gene_expression_data.csv\", index=False)"
   ]
  }
 ],
 "metadata": {
  "kernelspec": {
   "display_name": "Python 3",
   "language": "python",
   "name": "python3"
  },
  "language_info": {
   "codemirror_mode": {
    "name": "ipython",
    "version": 3
   },
   "file_extension": ".py",
   "mimetype": "text/x-python",
   "name": "python",
   "nbconvert_exporter": "python",
   "pygments_lexer": "ipython3",
   "version": "3.10.12"
  }
 },
 "nbformat": 4,
 "nbformat_minor": 2
}
